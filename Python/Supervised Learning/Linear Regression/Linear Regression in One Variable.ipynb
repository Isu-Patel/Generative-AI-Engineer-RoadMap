{
 "cells": [
  {
   "cell_type": "code",
   "execution_count": 17,
   "id": "01644181",
   "metadata": {},
   "outputs": [],
   "source": [
    "import pandas as pd\n",
    "import numpy as np\n",
    "import matplotlib.pyplot as plt\n",
    "from sklearn import linear_model"
   ]
  },
  {
   "cell_type": "code",
   "execution_count": 18,
   "id": "3b0ac9d7",
   "metadata": {},
   "outputs": [
    {
     "data": {
      "text/html": [
       "<div>\n",
       "<style scoped>\n",
       "    .dataframe tbody tr th:only-of-type {\n",
       "        vertical-align: middle;\n",
       "    }\n",
       "\n",
       "    .dataframe tbody tr th {\n",
       "        vertical-align: top;\n",
       "    }\n",
       "\n",
       "    .dataframe thead th {\n",
       "        text-align: right;\n",
       "    }\n",
       "</style>\n",
       "<table border=\"1\" class=\"dataframe\">\n",
       "  <thead>\n",
       "    <tr style=\"text-align: right;\">\n",
       "      <th></th>\n",
       "      <th>area</th>\n",
       "      <th>price</th>\n",
       "    </tr>\n",
       "  </thead>\n",
       "  <tbody>\n",
       "    <tr>\n",
       "      <th>0</th>\n",
       "      <td>2600</td>\n",
       "      <td>550000</td>\n",
       "    </tr>\n",
       "    <tr>\n",
       "      <th>1</th>\n",
       "      <td>3000</td>\n",
       "      <td>565000</td>\n",
       "    </tr>\n",
       "    <tr>\n",
       "      <th>2</th>\n",
       "      <td>3200</td>\n",
       "      <td>610000</td>\n",
       "    </tr>\n",
       "    <tr>\n",
       "      <th>3</th>\n",
       "      <td>3600</td>\n",
       "      <td>680000</td>\n",
       "    </tr>\n",
       "    <tr>\n",
       "      <th>4</th>\n",
       "      <td>4000</td>\n",
       "      <td>725000</td>\n",
       "    </tr>\n",
       "  </tbody>\n",
       "</table>\n",
       "</div>"
      ],
      "text/plain": [
       "   area   price\n",
       "0  2600  550000\n",
       "1  3000  565000\n",
       "2  3200  610000\n",
       "3  3600  680000\n",
       "4  4000  725000"
      ]
     },
     "execution_count": 18,
     "metadata": {},
     "output_type": "execute_result"
    }
   ],
   "source": [
    "df = pd.read_csv(\"D:\\\\🔥Generative AI Engineer🔥\\\\Python\\\\Supervised Learning\\\\Linear Regression\\\\homeprices.csv\", skipinitialspace=True)\n",
    "df"
   ]
  },
  {
   "cell_type": "code",
   "execution_count": null,
   "id": "cea5618a",
   "metadata": {},
   "outputs": [],
   "source": [
     "%matplotlib inline\n",
     "plt.scatter(df['area'], df['price'])\n",
     "plt.xlabel('Area (sqft)')\n",
     "plt.ylabel('Price (USD)')\n",
     "plt.title('House Price vs Area')\n"
    ]
  },
  {
   "cell_type": "code",
   "execution_count": null,
   "id": "linear-regression-model",
   "metadata": {},
   "outputs": [],
   "source": [
     "# Create linear regression model\n",
     "model = linear_model.LinearRegression()\n",
     "# Reshape data for model training (X needs to be 2D)\n",
     "X = df['area'].values.reshape(-1, 1)\n",
     "y = df['price'].values\n",
     "# Train the model\n",
     "model.fit(X, y)\n",
     "# Print model coefficients\n",
     "print(f'Coefficient: {model.coef_[0]:.2f}')\n",
     "print(f'Intercept: {model.intercept_:.2f}')\n"
    ]
  },
  {
   "cell_type": "code",
   "execution_count": null,
   "id": "model-visualization",
   "metadata": {},
   "outputs": [],
   "source": [
     "# Visualize the model\n",
     "plt.scatter(df['area'], df['price'])\n",
     "plt.plot(X, model.predict(X), color='red')\n",
     "plt.xlabel('Area (sqft)')\n",
     "plt.ylabel('Price (USD)')\n",
     "plt.title('Linear Regression Model')\n"
    ]
  },
  {
   "cell_type": "code",
   "execution_count": null,
   "id": "prediction-example",
   "metadata": {},
   "outputs": [],
   "source": [
     "# Make a prediction for a new house with 3300 sqft\n",
     "new_area = 3300\n",
     "predicted_price = model.predict([[new_area]])\n",
     "print(f'Predicted price for a house with {new_area} sqft: ${predicted_price[0]:.2f}')\n"
    ]
  },
  {
   "cell_type": "code",
   "execution_count": null,
   "id": "model-evaluation",
   "metadata": {},
   "outputs": [],
   "source": [
     "# Evaluate the model performance\n",
     "from sklearn.metrics import mean_squared_error, r2_score\n",
     "\n",
     "# Make predictions on the training data\n",
     "y_pred = model.predict(X)\n",
     "\n",
     "# Calculate metrics\n",
     "mse = mean_squared_error(y, y_pred)\n",
     "rmse = np.sqrt(mse)\n",
     "r2 = r2_score(y, y_pred)\n",
     "\n",
     "print(f'Mean Squared Error: {mse:.2f}')\n",
     "print(f'Root Mean Squared Error: {rmse:.2f}')\n",
     "print(f'R² Score: {r2:.4f}')\n"
    ]
  },
  {
   "cell_type": "code",
   "execution_count": null,
   "id": "save-load-model",
   "metadata": {},
   "outputs": [],
   "source": [
     "# Save the model to a file\n",
     "import joblib\n",
     "\n",
     "# Save the model\n",
     "model_filename = 'house_price_model.joblib'\n",
     "joblib.dump(model, model_filename)\n",
     "print(f'Model saved to {model_filename}')\n",
     "\n",
     "# Load the model (demonstration)\n",
     "loaded_model = joblib.load(model_filename)\n",
     "\n",
     "# Verify the loaded model works\n",
     "test_area = 3500\n",
     "test_prediction = loaded_model.predict([[test_area]])\n",
     "print(f'Prediction using loaded model for {test_area} sqft: ${test_prediction[0]:.2f}')\n"
    ]
  }
 ],
 "metadata": {
  "kernelspec": {
   "display_name": "masterenv",
   "language": "python",
   "name": "python3"
  },
  "language_info": {
   "codemirror_mode": {
    "name": "ipython",
    "version": 3
   },
   "file_extension": ".py",
   "mimetype": "text/x-python",
   "name": "python",
   "nbconvert_exporter": "python",
   "pygments_lexer": "ipython3",
   "version": "3.12.7"
  }
 },
 "nbformat": 4,
 "nbformat_minor": 5
}
